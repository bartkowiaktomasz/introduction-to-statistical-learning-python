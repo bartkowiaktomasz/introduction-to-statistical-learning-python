{
 "cells": [
  {
   "cell_type": "markdown",
   "id": "ed72bf9b-8f10-467d-95b6-9ddbbbad2b36",
   "metadata": {},
   "source": [
    "# Conceptual"
   ]
  },
  {
   "cell_type": "markdown",
   "id": "c1d4f72c-58b4-42b9-ba5b-522047f864b6",
   "metadata": {},
   "source": [
    "### 1. Using basic statistical properties of the variance, as well as single variable calculus, derive (5.6). In other words, prove that $\\alpha$ given by (5.6) does indeed minimize $Var(\\alpha X + (1 − \\alpha) Y)$\n",
    "\n",
    "Use:\n",
    "$$\n",
    "Var(aX + bY) = a^2 Var(X) + b^2 Var(y) + 2Cov(X, Y)\n",
    "$$\n",
    "\n",
    "Solution:\n",
    "$$\n",
    "f(\\alpha) = Var(\\alpha X + (1 − \\alpha) Y) = \\alpha^2 \\sigma_X^2 + (1 - \\alpha) \\sigma_Y^2 + 2\\alpha(1-\\alpha) \\sigma_{XY} \\\\\n",
    "\\iff \\frac{\\partial f}{\\partial \\alpha} = 0 \\implies \\\n",
    "2\\alpha \\sigma_X^2 - 2 \\sigma_Y^2 + 2 \\alpha \\sigma_Y^2 + 2 \\sigma_{XY} - 4 \\alpha \\sigma_{XY} = 0 \\\\\n",
    "\\implies \\alpha = \\frac{ \\sigma_Y^2 - \\sigma_{XY} }{ \\sigma_X^2 + \\sigma_Y^2 - 2 \\sigma_{XY} }\n",
    "$$"
   ]
  },
  {
   "cell_type": "markdown",
   "id": "45e4b9f7-894e-4b41-9849-b24a356581ba",
   "metadata": {},
   "source": [
    "### 2. We will now derive the probability that a given observation is part of a bootstrap sample. Suppose that we obtain a bootstrap sample from a set of $n$ observations.\n",
    "a) What is the probability that the first bootstrap observation is not the jth observation from the original sample? Justify your answer.\n",
    "$$\n",
    "(n - 1) / n = 1 - \\frac{1}{n}\n",
    "$$\n",
    "\n",
    "b) What is the probability that the second bootstrap observation is not the jth observation from the original sample?\n",
    "$$\n",
    "(n - 1) / n = 1 - \\frac{1}{n}\n",
    "$$\n",
    "c) Argue that the probability that the jth observation is not in the bootstrap sample is $(1 − 1/n)^n$\n",
    "- jth observation cannot be the first, second, ... nth bootstrap sample: $(1 − 1/n)^n$\n",
    "\n",
    "d) When $n = 5$, what is the probability that the jth observation is in the bootstrap sample?\n",
    "$$\n",
    "1 - (1 − 1/n)^n = 1 - (1 − 1/5)^5 = 1 - 0.33 = 0.67 \n",
    "$$\n",
    "\n",
    "e) When $n = 100$, what is the probability that the jth observation is in the bootstrap sample?\n",
    "$$\n",
    "1 - (1 − 1/n)^n = 1 - (1 − 1/100)^{100} = 1 - 0.366 = 0.634\n",
    "$$\n",
    "\n",
    "f) When $n = 10 000$, what is the probability that the jth observation is in the bootstrap sample?\n",
    "$$\n",
    "1 - (1 − 1/n)^n = 1 - (1 − 1/10000)^{10000} = 1 - 0.366 = 0.632\n",
    "$$\n",
    "\n",
    "g) Create a plot that displays, for each integer value of n from 1 to 100, 000, the probability that the jth observation is in the bootstrap sample. Comment on what you observe\n",
    "- The probability that any of the observations is in the bootstrap sample for large values of $n$ is around 0.632 (or $1 - \\frac{1}{e})$"
   ]
  },
  {
   "cell_type": "code",
   "execution_count": 35,
   "id": "897562f2-bd01-4f07-8021-957184025e11",
   "metadata": {},
   "outputs": [],
   "source": [
    "import matplotlib.pyplot as plt\n",
    "import numpy as np"
   ]
  },
  {
   "cell_type": "code",
   "execution_count": 40,
   "id": "a75820f9-55b4-4a37-9310-138bace1b4fe",
   "metadata": {},
   "outputs": [
    {
     "data": {
      "text/plain": [
       "[<matplotlib.lines.Line2D at 0x7ff059b914c0>]"
      ]
     },
     "execution_count": 40,
     "metadata": {},
     "output_type": "execute_result"
    },
    {
     "data": {
      "image/png": "[encoded data removed]",
      "text/plain": [
       "<Figure size 432x288 with 1 Axes>"
      ]
     },
     "metadata": {
      "needs_background": "light"
     },
     "output_type": "display_data"
    }
   ],
   "source": [
    "x = list(range(1, 100000))\n",
    "y = [1 - (1 - 1/n)**n for n in x]\n",
    "fig, ax = plt.subplots(1, 1)\n",
    "ax.set(xscale = \"log\", xlabel = \"n\", \n",
    "       ylabel = \"Probability\")\n",
    "ax.plot(x, y)"
   ]
  },
  {
   "cell_type": "markdown",
   "id": "65451263-3b0b-4f26-92ac-174071b3660f",
   "metadata": {},
   "source": [
    "(h) We will now investigate numerically the probability that a bootstrap sample of size n = 100 contains the jth observation. Here j = 4. We repeatedly create bootstrap samples, and each time we record whether or not the fourth observation is contained in the bootstrap sample.\n",
    "- The simulation confirms the above considerations"
   ]
  },
  {
   "cell_type": "code",
   "execution_count": 33,
   "id": "81932840-9620-4b2f-8180-10418e1cc8f7",
   "metadata": {},
   "outputs": [
    {
     "name": "stdout",
     "output_type": "stream",
     "text": [
      "Proportion of bootstrap samples containing j: 0.6321\n"
     ]
    }
   ],
   "source": [
    "samples, n, j = 10000, 100, 4\n",
    "present_count = 0\n",
    "for s in range(samples):\n",
    "    bootstrap = np.random.randint(1, 100, 100)\n",
    "    if j in bootstrap: present_count += 1\n",
    "print(f\"Proportion of bootstrap samples containing j: {present_count/samples}\")"
   ]
  },
  {
   "cell_type": "markdown",
   "id": "437c8501-2b16-41bd-9d92-93ee65918ded",
   "metadata": {},
   "source": [
    "### 3. We now review k-fold cross-validation.\n",
    "(a) Explain how k-fold cross-validation is implemented\n",
    "- We split the dataset into $k$ disjoint subsets. Then, we fit our model $k$ times, each time using different combination of $k-1$ subsets (concatenated together) for training, and then, evaluating the model performance on the remaining subset not used for training. Cross-validation performance of the model is the average validation performance across the $k$ runs\n",
    "\n",
    "(b) What are the advantages and disadvantages of k-fold crossvalidation relative to:\n",
    "\n",
    "i. The validation set approach?\n",
    "- K-fold CV estimate is less biased - the model will have been tested on all samples. Validation set performance varies depending on the data that was included in the training vs. validation set\n",
    "- K-fold is computationally more expensive (we train the model $k$ times)\n",
    "\n",
    "ii. LOOCV?\n",
    "- K-fold CV estimate is more biased - LOOCV uses almost all possible training data to fit the model\n",
    "- K-fold CV estimate has less variance - in LOOCV the training subsets overlap almost exactly. And the mean of many highly correlated quantities has a higher variance \n",
    "- K-fold CV estimate is computationally less expensive - LOOCV requires training the model $k$ times\n",
    "\n",
    "### 4. Suppose that we use some statistical learning method to make a prediction for the response $Y$ for a particular value of the predictor $X$. Carefully describe how we might estimate the standard deviation of our prediction.\n",
    "- We can create $n$ bootstrap samples from our original dataset $D$. Then, we fit our model on each of the bootstrap samples and calculate $Y_i = f_i(X)$ where $f_i$ is the i'th model fit on i'th bootstrap sample. We can estimate the SD of our prediction with: \n",
    "$$\n",
    "\\hat{\\sigma} = \\sqrt{ \\frac{1}{B-1} \\sum_{i=0}^{B} (f_i(X) - \\bar{f_i(X)})^2}\n",
    "$$"
   ]
  }
 ],
 "metadata": {
  "kernelspec": {
   "display_name": "data-science",
   "language": "python",
   "name": "data-science"
  },
  "language_info": {
   "codemirror_mode": {
    "name": "ipython",
    "version": 3
   },
   "file_extension": ".py",
   "mimetype": "text/x-python",
   "name": "python",
   "nbconvert_exporter": "python",
   "pygments_lexer": "ipython3",
   "version": "3.9.7"
  }
 },
 "nbformat": 4,
 "nbformat_minor": 5
}
