{
 "cells": [
  {
   "cell_type": "markdown",
   "id": "ed72bf9b-8f10-467d-95b6-9ddbbbad2b36",
   "metadata": {},
   "source": [
    "# Conceptual"
   ]
  },
  {
   "cell_type": "markdown",
   "id": "c1d4f72c-58b4-42b9-ba5b-522047f864b6",
   "metadata": {},
   "source": [
    "### 1. Using basic statistical properties of the variance, as well as single variable calculus, derive (5.6). In other words, prove that $\\alpha$ given by (5.6) does indeed minimize $Var(\\alpha X + (1 − \\alpha) Y)$\n",
    "\n",
    "Use:\n",
    "$$\n",
    "Var(aX + bY) = a^2 Var(X) + b^2 Var(y) + 2Cov(X, Y)\n",
    "$$\n",
    "\n",
    "Solution:\n",
    "$$\n",
    "f(\\alpha) = Var(\\alpha X + (1 − \\alpha) Y) = \\alpha^2 \\sigma_X^2 + (1 - \\alpha) \\sigma_Y^2 + 2\\alpha(1-\\alpha) \\sigma_{XY} \\\\\n",
    "\\iff \\frac{\\partial f}{\\partial \\alpha} = 0 \\implies \\\n",
    "2\\alpha \\sigma_X^2 - 2 \\sigma_Y^2 + 2 \\alpha \\sigma_Y^2 + 2 \\sigma_{XY} - 4 \\alpha \\sigma_{XY} = 0 \\\\\n",
    "\\implies \\alpha = \\frac{ \\sigma_Y^2 - \\sigma_{XY} }{ \\sigma_X^2 + \\sigma_Y^2 - 2 \\sigma_{XY} }\n",
    "$$"
   ]
  },
  {
   "cell_type": "markdown",
   "id": "45e4b9f7-894e-4b41-9849-b24a356581ba",
   "metadata": {},
   "source": [
    "### 2. We will now derive the probability that a given observation is part of a bootstrap sample. Suppose that we obtain a bootstrap sample from a set of $n$ observations.\n",
    "a) What is the probability that the first bootstrap observation is not the jth observation from the original sample? Justify your answer.\n",
    "$$\n",
    "(n - 1) / n = 1 - \\frac{1}{n}\n",
    "$$\n",
    "\n",
    "b) What is the probability that the second bootstrap observation is not the jth observation from the original sample?\n",
    "$$\n",
    "(n - 1) / n = 1 - \\frac{1}{n}\n",
    "$$\n",
    "c) Argue that the probability that the jth observation is not in the bootstrap sample is $(1 − 1/n)^n$\n",
    "- jth observation cannot be the first, second, ... nth bootstrap sample: $(1 − 1/n)^n$\n",
    "\n",
    "d) When $n = 5$, what is the probability that the jth observation is in the bootstrap sample?\n",
    "$$\n",
    "1 - (1 − 1/n)^n = 1 - (1 − 1/5)^5 = 1 - 0.33 = 0.67 \n",
    "$$\n",
    "\n",
    "e) When $n = 100$, what is the probability that the jth observation is in the bootstrap sample?\n",
    "$$\n",
    "1 - (1 − 1/n)^n = 1 - (1 − 1/100)^{100} = 1 - 0.366 = 0.634\n",
    "$$\n",
    "\n",
    "f) When $n = 10 000$, what is the probability that the jth observation is in the bootstrap sample?\n",
    "$$\n",
    "1 - (1 − 1/n)^n = 1 - (1 − 1/10000)^{10000} = 1 - 0.366 = 0.632\n",
    "$$\n",
    "\n",
    "g) Create a plot that displays, for each integer value of n from 1 to 100, 000, the probability that the jth observation is in the bootstrap sample. Comment on what you observe\n",
    "- The probability that any of the observations is in the bootstrap sample for large values of $n$ is around 0.632 (or $1 - \\frac{1}{e})$"
   ]
  },
  {
   "cell_type": "code",
   "execution_count": 35,
   "id": "897562f2-bd01-4f07-8021-957184025e11",
   "metadata": {},
   "outputs": [],
   "source": [
    "import matplotlib.pyplot as plt\n",
    "import numpy as np"
   ]
  },
  {
   "cell_type": "code",
   "execution_count": 40,
   "id": "a75820f9-55b4-4a37-9310-138bace1b4fe",
   "metadata": {},
   "outputs": [
    {
     "data": {
      "text/plain": [
       "[<matplotlib.lines.Line2D at 0x7ff059b914c0>]"
      ]
     },
     "execution_count": 40,
     "metadata": {},
     "output_type": "execute_result"
    },
    {
     "data": {
      "image/png": "[encoded data removed]",
      "text/plain": [
       "<Figure size 432x288 with 1 Axes>"
      ]
     },
     "metadata": {
      "needs_background": "light"
     },
     "output_type": "display_data"
    }
   ],
   "source": [
    "x = list(range(1, 100000))\n",
    "y = [1 - (1 - 1/n)**n for n in x]\n",
    "fig, ax = plt.subplots(1, 1)\n",
    "ax.set(xscale = \"log\", xlabel = \"n\", \n",
    "       ylabel = \"Probability\")\n",
    "ax.plot(x, y)"
   ]
  },
  {
   "cell_type": "markdown",
   "id": "65451263-3b0b-4f26-92ac-174071b3660f",
   "metadata": {},
   "source": [
    "(h) We will now investigate numerically the probability that a bootstrap sample of size n = 100 contains the jth observation. Here j = 4. We repeatedly create bootstrap samples, and each time we record whether or not the fourth observation is contained in the bootstrap sample.\n",
    "- The simulation confirms the above considerations"
   ]
  },
  {
   "cell_type": "code",
   "execution_count": 33,
   "id": "81932840-9620-4b2f-8180-10418e1cc8f7",
   "metadata": {},
   "outputs": [
    {
     "name": "stdout",
     "output_type": "stream",
     "text": [
      "Proportion of bootstrap samples containing j: 0.6321\n"
     ]
    }
   ],
   "source": [
    "samples, n, j = 10000, 100, 4\n",
    "present_count = 0\n",
    "for s in range(samples):\n",
    "    bootstrap = np.random.randint(1, 100, 100)\n",
    "    if j in bootstrap: present_count += 1\n",
    "print(f\"Proportion of bootstrap samples containing j: {present_count/samples}\")"
   ]
  },
  {
   "cell_type": "markdown",
   "id": "437c8501-2b16-41bd-9d92-93ee65918ded",
   "metadata": {},
   "source": [
    "### 3. We now review k-fold cross-validation.\n",
    "(a) Explain how k-fold cross-validation is implemented\n",
    "- We split the dataset into $k$ disjoint subsets. Then, we fit our model $k$ times, each time using different combination of $k-1$ subsets (concatenated together) for training, and then, evaluating the model performance on the remaining subset not used for training. Cross-validation performance of the model is the average validation performance across the $k$ runs\n",
    "\n",
    "(b) What are the advantages and disadvantages of k-fold crossvalidation relative to:\n",
    "\n",
    "i. The validation set approach?\n",
    "- K-fold CV estimate is less biased - the model will have been tested on all samples. Validation set performance varies depending on the data that was included in the training vs. validation set\n",
    "- K-fold is computationally more expensive (we train the model $k$ times)\n",
    "\n",
    "ii. LOOCV?\n",
    "- K-fold CV estimate is more biased - LOOCV uses almost all possible training data to fit the model\n",
    "- K-fold CV estimate has less variance - in LOOCV the training subsets overlap almost exactly. And the mean of many highly correlated quantities has a higher variance \n",
    "- K-fold CV estimate is computationally less expensive - LOOCV requires training the model $k$ times\n",
    "\n",
    "> _The source of confusion though is that when people talk about LOOCV leading to high variability, they aren't talking about the predictions made by the many models built during that loop of cross-validation on the holdout sets. Instead, they are talking about how much variability your final chosen model (the one chosen via LOOCV) would have if you train that exact model/parameters on new training sets - training sets your model haven't seen before. In this case, variability would be high._\n",
    "\n",
    "### 4. Suppose that we use some statistical learning method to make a prediction for the response $Y$ for a particular value of the predictor $X$. Carefully describe how we might estimate the standard deviation of our prediction.\n",
    "- We can create $n$ bootstrap samples from our original dataset $D$. Then, we fit our model on each of the bootstrap samples and calculate $Y_i = f_i(X)$ where $f_i$ is the i'th model fit on i'th bootstrap sample. We can estimate the SD of our prediction with: \n",
    "$$\n",
    "\\hat{\\sigma} = \\sqrt{ \\frac{1}{B-1} \\sum_{i=0}^{B} (f_i(X) - \\bar{f_i(X)})^2}\n",
    "$$"
   ]
  },
  {
   "cell_type": "markdown",
   "id": "893c1432-8a00-4702-ac51-ffa002d25d6e",
   "metadata": {},
   "source": [
    "# Applied"
   ]
  },
  {
   "cell_type": "code",
   "execution_count": 291,
   "id": "cdd9db33-5281-4d30-a878-1f45f921e943",
   "metadata": {},
   "outputs": [],
   "source": [
    "import statsmodels.api as sm\n",
    "import statsmodels.formula.api as smf\n",
    "import pandas as pd\n",
    "import numpy as np\n",
    "import scipy\n",
    "from sklearn import metrics"
   ]
  },
  {
   "cell_type": "markdown",
   "id": "8d165a9b-6865-43b6-8fe1-641237770173",
   "metadata": {},
   "source": [
    "### 5. In Chapter 4, we used logistic regression to predict the probability of `default` using `income` and `balance` on the `Default` data set. We will now estimate the test error of this logistic regression model using the validation set approach. Do not forget to set a random seed before beginning your analysis.\n",
    "\n",
    "(a) Fit a logistic regression model that uses income and balance to predict default"
   ]
  },
  {
   "cell_type": "code",
   "execution_count": 41,
   "id": "211b1b4f-de83-409b-8552-5fa7783ca16f",
   "metadata": {},
   "outputs": [],
   "source": [
    "default_df = pd.read_csv(\"../data/Default.csv\", index_col=0)\n",
    "default_df[\"student\"] = default_df[\"student\"].map(lambda x: 1 if x == \"Yes\" else 0)\n",
    "default_df[\"default\"] = default_df[\"default\"].map(lambda x: 1 if x == \"Yes\" else 0)\n",
    "default_df = sm.add_constant(default_df)"
   ]
  },
  {
   "cell_type": "code",
   "execution_count": 42,
   "id": "3477335c-a832-4174-a9d6-0428c4b85f85",
   "metadata": {},
   "outputs": [
    {
     "name": "stdout",
     "output_type": "stream",
     "text": [
      "Optimization terminated successfully.\n",
      "         Current function value: 0.077979\n",
      "         Iterations 10\n",
      "Optimization terminated successfully.\n",
      "         Current function value: 0.077671\n",
      "         Iterations 10\n",
      "Optimization terminated successfully.\n",
      "         Current function value: 0.078693\n",
      "         Iterations 10\n"
     ]
    }
   ],
   "source": [
    "errors = []\n",
    "for i in range(3):\n",
    "    D_train, D_test = train_test_split(default_df, test_size=0.2, random_state=i)\n",
    "    X_train, X_test = D_train.drop(columns=[\"default\", \"student\"]), D_test.drop(columns=[\"default\", \"student\"])\n",
    "    y_train, y_test = D_train[\"default\"], D_test[\"default\"]\n",
    "\n",
    "    model = sm.Logit(y_train, X_train).fit()\n",
    "    y_pred = (model.predict(X_test) > 0.5).map(int).values\n",
    "    df_cm = metrics.confusion_matrix(y_test.values, y_pred)\n",
    "    error = 1 - metrics.accuracy_score(y_test, y_pred)\n",
    "    errors.append(error)"
   ]
  },
  {
   "cell_type": "markdown",
   "id": "c9df9e88-c6b2-4bad-a149-3519fc32c79a",
   "metadata": {},
   "source": [
    "(b) Using the validation set approach, estimate the test error of this model. In order to do this, you must perform the following steps:\n",
    "\n",
    "i. Split the sample set into a training set and a validation set.\n",
    "\n",
    "ii. Fit a multiple logistic regression model using only the training observations\n",
    "\n",
    "iii. Obtain a prediction of default status for each individual in the validation set by computing the posterior probability of default for that individual, and classifying the individual to the default category if the posterior probability is greater than 0.5.\n",
    "\n",
    "iv. Compute the validation set error, which is the fraction of the observations in the validation set that are misclassified\n",
    "\n",
    "(c) Repeat the process in (b) three times, using three different splits of the observations into a training set and a validation set. Comment on the results obtained.\n",
    "\n",
    "- See above\n",
    "\n",
    "- Below are mean error and standard deviation for the error"
   ]
  },
  {
   "cell_type": "code",
   "execution_count": 43,
   "id": "44a1c962-4054-404c-903e-b5f1cf152618",
   "metadata": {},
   "outputs": [
    {
     "data": {
      "text/plain": [
       "(0.028000000000000025, 0.0010000000000000009)"
      ]
     },
     "execution_count": 43,
     "metadata": {},
     "output_type": "execute_result"
    }
   ],
   "source": [
    "np.mean(errors), np.std(errors, ddof=1)"
   ]
  },
  {
   "cell_type": "markdown",
   "id": "132cb23a-97e7-42a5-948c-66c123a7293a",
   "metadata": {},
   "source": [
    "(d) Now consider a logistic regression model that predicts the probability of default using income, balance, and a dummy variable for student. Estimate the test error for this model using the validation set approach. Comment on whether or not including a dummy variable for student leads to a reduction in the test error rate.\n",
    "\n",
    "- The test error is very similar - including the variable `student` does not lead to a reduction in the test error rate"
   ]
  },
  {
   "cell_type": "code",
   "execution_count": 44,
   "id": "ca34e99e-658a-4ef6-9582-b383cf567d42",
   "metadata": {},
   "outputs": [
    {
     "name": "stdout",
     "output_type": "stream",
     "text": [
      "Optimization terminated successfully.\n",
      "         Current function value: 0.078087\n",
      "         Iterations 10\n",
      "Error: 0.028000000000000025\n"
     ]
    }
   ],
   "source": [
    "D_train, D_test = train_test_split(default_df, test_size=0.2, random_state=i)\n",
    "X_train, X_test = D_train.drop(columns=[\"default\"]), D_test.drop(columns=[\"default\"])\n",
    "y_train, y_test = D_train[\"default\"], D_test[\"default\"]\n",
    "\n",
    "model = sm.Logit(y_train, X_train).fit()\n",
    "y_pred = (model.predict(X_test) > 0.5).map(int).values\n",
    "df_cm = metrics.confusion_matrix(y_test.values, y_pred)\n",
    "error = 1 - metrics.accuracy_score(y_test, y_pred)\n",
    "print(f\"Error: {error}\")"
   ]
  },
  {
   "cell_type": "code",
   "execution_count": 45,
   "id": "8cbc7c2b-5e4e-4c01-a714-140f10d518ec",
   "metadata": {},
   "outputs": [
    {
     "data": {
      "text/plain": [
       "0.028000000000000025"
      ]
     },
     "execution_count": 45,
     "metadata": {},
     "output_type": "execute_result"
    }
   ],
   "source": [
    "error"
   ]
  },
  {
   "cell_type": "markdown",
   "id": "0d4b1d5f-7a4b-4e64-9b7a-6a266c1c43f7",
   "metadata": {},
   "source": [
    "### 6. We continue to consider the use of a logistic regression model to predict the probability of default using income and balance on the Default data set. In particular, we will now compute estimates for the standard errors of the income and balance logistic regression coefficients in two different ways: (1) using the bootstrap, and (2) using the standard formula for computing the standard errors in the glm() function. Do not forget to set a random seed before beginning your analysis."
   ]
  },
  {
   "cell_type": "markdown",
   "id": "b456789a-f70a-4247-b9a1-8a008367548d",
   "metadata": {},
   "source": [
    "(a) Determine the estimated standard errors for the coefficients associated with income and balance in a multiple logistic regression model that uses both predictors.\n",
    "- As seen below, the standard errors are: 3e-5 (balance), 3.7e-6 (income)"
   ]
  },
  {
   "cell_type": "code",
   "execution_count": 62,
   "id": "945e8ca9-a63e-49ab-8fbc-ae026f446473",
   "metadata": {},
   "outputs": [],
   "source": [
    "default_df = pd.read_csv(\"../data/Default.csv\", index_col=0)\n",
    "default_df[\"student\"] = default_df[\"student\"].map(lambda x: 1 if x == \"Yes\" else 0)\n",
    "default_df[\"default\"] = default_df[\"default\"].map(lambda x: 1 if x == \"Yes\" else 0)"
   ]
  },
  {
   "cell_type": "code",
   "execution_count": 63,
   "id": "95756a9f-ebc0-48a7-b629-4f65a0521615",
   "metadata": {},
   "outputs": [
    {
     "name": "stdout",
     "output_type": "stream",
     "text": [
      "Optimization terminated successfully.\n",
      "         Current function value: 0.173456\n",
      "         Iterations 8\n"
     ]
    },
    {
     "data": {
      "text/html": [
       "<table class=\"simpletable\">\n",
       "<caption>Logit Regression Results</caption>\n",
       "<tr>\n",
       "  <th>Dep. Variable:</th>        <td>default</td>     <th>  No. Observations:  </th>  <td> 10000</td> \n",
       "</tr>\n",
       "<tr>\n",
       "  <th>Model:</th>                 <td>Logit</td>      <th>  Df Residuals:      </th>  <td>  9998</td> \n",
       "</tr>\n",
       "<tr>\n",
       "  <th>Method:</th>                 <td>MLE</td>       <th>  Df Model:          </th>  <td>     1</td> \n",
       "</tr>\n",
       "<tr>\n",
       "  <th>Date:</th>            <td>Fri, 09 Jun 2023</td> <th>  Pseudo R-squ.:     </th>  <td>-0.1878</td>\n",
       "</tr>\n",
       "<tr>\n",
       "  <th>Time:</th>                <td>17:17:35</td>     <th>  Log-Likelihood:    </th> <td> -1734.6</td>\n",
       "</tr>\n",
       "<tr>\n",
       "  <th>converged:</th>             <td>True</td>       <th>  LL-Null:           </th> <td> -1460.3</td>\n",
       "</tr>\n",
       "<tr>\n",
       "  <th>Covariance Type:</th>     <td>nonrobust</td>    <th>  LLR p-value:       </th>  <td> 1.000</td> \n",
       "</tr>\n",
       "</table>\n",
       "<table class=\"simpletable\">\n",
       "<tr>\n",
       "     <td></td>        <th>coef</th>     <th>std err</th>      <th>z</th>      <th>P>|z|</th>  <th>[0.025</th>    <th>0.975]</th>  \n",
       "</tr>\n",
       "<tr>\n",
       "  <th>balance</th> <td>    0.0004</td> <td> 7.03e-05</td> <td>    5.797</td> <td> 0.000</td> <td>    0.000</td> <td>    0.001</td>\n",
       "</tr>\n",
       "<tr>\n",
       "  <th>income</th>  <td>   -0.0001</td> <td>  3.7e-06</td> <td>  -34.025</td> <td> 0.000</td> <td>   -0.000</td> <td>   -0.000</td>\n",
       "</tr>\n",
       "</table>"
      ],
      "text/latex": [
       "\\begin{center}\n",
       "\\begin{tabular}{lclc}\n",
       "\\toprule\n",
       "\\textbf{Dep. Variable:}   &     default      & \\textbf{  No. Observations:  } &    10000    \\\\\n",
       "\\textbf{Model:}           &      Logit       & \\textbf{  Df Residuals:      } &     9998    \\\\\n",
       "\\textbf{Method:}          &       MLE        & \\textbf{  Df Model:          } &        1    \\\\\n",
       "\\textbf{Date:}            & Fri, 09 Jun 2023 & \\textbf{  Pseudo R-squ.:     } &  -0.1878    \\\\\n",
       "\\textbf{Time:}            &     17:17:35     & \\textbf{  Log-Likelihood:    } &   -1734.6   \\\\\n",
       "\\textbf{converged:}       &       True       & \\textbf{  LL-Null:           } &   -1460.3   \\\\\n",
       "\\textbf{Covariance Type:} &    nonrobust     & \\textbf{  LLR p-value:       } &    1.000    \\\\\n",
       "\\bottomrule\n",
       "\\end{tabular}\n",
       "\\begin{tabular}{lcccccc}\n",
       "                 & \\textbf{coef} & \\textbf{std err} & \\textbf{z} & \\textbf{P$> |$z$|$} & \\textbf{[0.025} & \\textbf{0.975]}  \\\\\n",
       "\\midrule\n",
       "\\textbf{balance} &       0.0004  &     7.03e-05     &     5.797  &         0.000        &        0.000    &        0.001     \\\\\n",
       "\\textbf{income}  &      -0.0001  &      3.7e-06     &   -34.025  &         0.000        &       -0.000    &       -0.000     \\\\\n",
       "\\bottomrule\n",
       "\\end{tabular}\n",
       "%\\caption{Logit Regression Results}\n",
       "\\end{center}"
      ],
      "text/plain": [
       "<class 'statsmodels.iolib.summary.Summary'>\n",
       "\"\"\"\n",
       "                           Logit Regression Results                           \n",
       "==============================================================================\n",
       "Dep. Variable:                default   No. Observations:                10000\n",
       "Model:                          Logit   Df Residuals:                     9998\n",
       "Method:                           MLE   Df Model:                            1\n",
       "Date:                Fri, 09 Jun 2023   Pseudo R-squ.:                 -0.1878\n",
       "Time:                        17:17:35   Log-Likelihood:                -1734.6\n",
       "converged:                       True   LL-Null:                       -1460.3\n",
       "Covariance Type:            nonrobust   LLR p-value:                     1.000\n",
       "==============================================================================\n",
       "                 coef    std err          z      P>|z|      [0.025      0.975]\n",
       "------------------------------------------------------------------------------\n",
       "balance        0.0004   7.03e-05      5.797      0.000       0.000       0.001\n",
       "income        -0.0001    3.7e-06    -34.025      0.000      -0.000      -0.000\n",
       "==============================================================================\n",
       "\"\"\""
      ]
     },
     "execution_count": 63,
     "metadata": {},
     "output_type": "execute_result"
    }
   ],
   "source": [
    "X_train = default_df.drop(columns=[\"default\", \"student\"])\n",
    "y_train = default_df[[\"default\"]]\n",
    "model = sm.Logit(y_train, X_train)\n",
    "results = model.fit().summary()\n",
    "results"
   ]
  },
  {
   "cell_type": "markdown",
   "id": "f78a18d4-d645-4268-a3a1-106c91b82083",
   "metadata": {},
   "source": [
    "(b) - (d) Estimate the standard errors using bootstrapping\n",
    "- Standard error estimates are lower for both: balance (1.9e-6) and income (1.6e-7) (compared to std error estimates from the linear regression model itself)"
   ]
  },
  {
   "cell_type": "code",
   "execution_count": 68,
   "id": "65925936-8e8c-487d-853c-1a715f47f68c",
   "metadata": {},
   "outputs": [
    {
     "name": "stdout",
     "output_type": "stream",
     "text": [
      "Optimization terminated successfully.\n",
      "         Current function value: 0.181056\n",
      "         Iterations 8\n",
      "Optimization terminated successfully.\n",
      "         Current function value: 0.166330\n",
      "         Iterations 8\n",
      "Optimization terminated successfully.\n",
      "         Current function value: 0.164672\n",
      "         Iterations 8\n",
      "Optimization terminated successfully.\n",
      "         Current function value: 0.167739\n",
      "         Iterations 8\n",
      "Optimization terminated successfully.\n",
      "         Current function value: 0.164614\n",
      "         Iterations 8\n",
      "Optimization terminated successfully.\n",
      "         Current function value: 0.179511\n",
      "         Iterations 8\n",
      "Optimization terminated successfully.\n",
      "         Current function value: 0.172647\n",
      "         Iterations 8\n",
      "Optimization terminated successfully.\n",
      "         Current function value: 0.168203\n",
      "         Iterations 8\n",
      "Optimization terminated successfully.\n",
      "         Current function value: 0.176467\n",
      "         Iterations 8\n",
      "Optimization terminated successfully.\n",
      "         Current function value: 0.177877\n",
      "         Iterations 8\n",
      "Optimization terminated successfully.\n",
      "         Current function value: 0.165814\n",
      "         Iterations 8\n",
      "Optimization terminated successfully.\n",
      "         Current function value: 0.160366\n",
      "         Iterations 8\n",
      "Optimization terminated successfully.\n",
      "         Current function value: 0.176192\n",
      "         Iterations 8\n",
      "Optimization terminated successfully.\n",
      "         Current function value: 0.176012\n",
      "         Iterations 8\n",
      "Optimization terminated successfully.\n",
      "         Current function value: 0.172294\n",
      "         Iterations 8\n",
      "Optimization terminated successfully.\n",
      "         Current function value: 0.166412\n",
      "         Iterations 8\n",
      "Optimization terminated successfully.\n",
      "         Current function value: 0.164967\n",
      "         Iterations 8\n",
      "Optimization terminated successfully.\n",
      "         Current function value: 0.168254\n",
      "         Iterations 8\n",
      "Optimization terminated successfully.\n",
      "         Current function value: 0.172046\n",
      "         Iterations 8\n",
      "Optimization terminated successfully.\n",
      "         Current function value: 0.170852\n",
      "         Iterations 8\n",
      "Optimization terminated successfully.\n",
      "         Current function value: 0.161807\n",
      "         Iterations 8\n",
      "Optimization terminated successfully.\n",
      "         Current function value: 0.169368\n",
      "         Iterations 8\n",
      "Optimization terminated successfully.\n",
      "         Current function value: 0.168404\n",
      "         Iterations 8\n",
      "Optimization terminated successfully.\n",
      "         Current function value: 0.170900\n",
      "         Iterations 8\n",
      "Optimization terminated successfully.\n",
      "         Current function value: 0.174933\n",
      "         Iterations 8\n",
      "Optimization terminated successfully.\n",
      "         Current function value: 0.172217\n",
      "         Iterations 8\n",
      "Optimization terminated successfully.\n",
      "         Current function value: 0.179077\n",
      "         Iterations 8\n",
      "Optimization terminated successfully.\n",
      "         Current function value: 0.170290\n",
      "         Iterations 8\n",
      "Optimization terminated successfully.\n",
      "         Current function value: 0.169099\n",
      "         Iterations 8\n",
      "Optimization terminated successfully.\n",
      "         Current function value: 0.175482\n",
      "         Iterations 8\n",
      "Optimization terminated successfully.\n",
      "         Current function value: 0.169334\n",
      "         Iterations 8\n",
      "Optimization terminated successfully.\n",
      "         Current function value: 0.173799\n",
      "         Iterations 8\n",
      "Optimization terminated successfully.\n",
      "         Current function value: 0.181729\n",
      "         Iterations 8\n",
      "Optimization terminated successfully.\n",
      "         Current function value: 0.178483\n",
      "         Iterations 8\n",
      "Optimization terminated successfully.\n",
      "         Current function value: 0.167432\n",
      "         Iterations 8\n",
      "Optimization terminated successfully.\n",
      "         Current function value: 0.179249\n",
      "         Iterations 8\n",
      "Optimization terminated successfully.\n",
      "         Current function value: 0.168679\n",
      "         Iterations 8\n",
      "Optimization terminated successfully.\n",
      "         Current function value: 0.188631\n",
      "         Iterations 8\n",
      "Optimization terminated successfully.\n",
      "         Current function value: 0.155624\n",
      "         Iterations 8\n",
      "Optimization terminated successfully.\n",
      "         Current function value: 0.165250\n",
      "         Iterations 8\n",
      "Optimization terminated successfully.\n",
      "         Current function value: 0.174942\n",
      "         Iterations 8\n",
      "Optimization terminated successfully.\n",
      "         Current function value: 0.179361\n",
      "         Iterations 8\n",
      "Optimization terminated successfully.\n",
      "         Current function value: 0.173718\n",
      "         Iterations 8\n",
      "Optimization terminated successfully.\n",
      "         Current function value: 0.179654\n",
      "         Iterations 8\n",
      "Optimization terminated successfully.\n",
      "         Current function value: 0.175195\n",
      "         Iterations 8\n",
      "Optimization terminated successfully.\n",
      "         Current function value: 0.174371\n",
      "         Iterations 8\n",
      "Optimization terminated successfully.\n",
      "         Current function value: 0.167693\n",
      "         Iterations 8\n",
      "Optimization terminated successfully.\n",
      "         Current function value: 0.163803\n",
      "         Iterations 8\n",
      "Optimization terminated successfully.\n",
      "         Current function value: 0.179080\n",
      "         Iterations 8\n",
      "Optimization terminated successfully.\n",
      "         Current function value: 0.178262\n",
      "         Iterations 8\n"
     ]
    },
    {
     "data": {
      "text/plain": [
       "(1.977102600746242e-06, 1.5978314385824458e-07)"
      ]
     },
     "execution_count": 68,
     "metadata": {},
     "output_type": "execute_result"
    }
   ],
   "source": [
    "B = 50\n",
    "std_balance, std_income = [], []\n",
    "for i in range(B):\n",
    "    sample = default_df.sample(len(default_df), replace=True)\n",
    "    X_train_sample = sample.drop(columns=[\"default\", \"student\"])\n",
    "    y_train_sample = sample[[\"default\"]]\n",
    "    model = sm.Logit(y_train_sample, X_train_sample)\n",
    "    results = model.fit().summary()\n",
    "    std_balance.append(float(results.tables[1].data[1][2].strip()))\n",
    "    std_income.append(float(results.tables[1].data[2][2].strip()))\n",
    "np.std(std_balance, ddof=1), np.std(std_income, ddof=1)"
   ]
  },
  {
   "cell_type": "markdown",
   "id": "3e889199-0764-406d-8a03-d84bf2f6a5b6",
   "metadata": {},
   "source": [
    "### 7. In Sections 5.3.2 and 5.3.3, we saw that the `cv.glm()` function can be used in order to compute the LOOCV test error estimate. Alternatively, one could compute those quantities using just the `glm()` and `predict.glm()` functions, and a for loop. You will now take this approach in order to compute the LOOCV error for a simple logistic regression model on the `Weekly` data set. Recall that in the context of classification problems, the LOOCV error is given in (5.4).\n",
    "\n",
    "(a) Fit a logistic regression model that predicts `Direction` using `Lag1` and `Lag2`"
   ]
  },
  {
   "cell_type": "code",
   "execution_count": 140,
   "id": "797694de-d33e-48f5-b2f8-de7e5be6f202",
   "metadata": {},
   "outputs": [],
   "source": [
    "weekly_df = pd.read_csv(\"../data/Weekly.csv\", index_col=0)\n",
    "weekly_df[\"Direction\"] = weekly_df[\"Direction\"].map(lambda x: 1 if x == \"Up\" else 0)\n",
    "weekly_df = sm.add_constant(weekly_df)"
   ]
  },
  {
   "cell_type": "code",
   "execution_count": 141,
   "id": "356e8c76-61a8-4465-baf4-2484423a0b52",
   "metadata": {},
   "outputs": [
    {
     "name": "stdout",
     "output_type": "stream",
     "text": [
      "Optimization terminated successfully.\n",
      "         Current function value: 0.689280\n",
      "         Iterations 4\n"
     ]
    },
    {
     "data": {
      "text/html": [
       "<table class=\"simpletable\">\n",
       "<caption>Logit Regression Results</caption>\n",
       "<tr>\n",
       "  <th>Dep. Variable:</th>       <td>Direction</td>    <th>  No. Observations:  </th>  <td>  1089</td>  \n",
       "</tr>\n",
       "<tr>\n",
       "  <th>Model:</th>                 <td>Logit</td>      <th>  Df Residuals:      </th>  <td>  1087</td>  \n",
       "</tr>\n",
       "<tr>\n",
       "  <th>Method:</th>                 <td>MLE</td>       <th>  Df Model:          </th>  <td>     1</td>  \n",
       "</tr>\n",
       "<tr>\n",
       "  <th>Date:</th>            <td>Fri, 09 Jun 2023</td> <th>  Pseudo R-squ.:     </th> <td>-0.003375</td>\n",
       "</tr>\n",
       "<tr>\n",
       "  <th>Time:</th>                <td>17:59:38</td>     <th>  Log-Likelihood:    </th> <td> -750.63</td> \n",
       "</tr>\n",
       "<tr>\n",
       "  <th>converged:</th>             <td>True</td>       <th>  LL-Null:           </th> <td> -748.10</td> \n",
       "</tr>\n",
       "<tr>\n",
       "  <th>Covariance Type:</th>     <td>nonrobust</td>    <th>  LLR p-value:       </th>  <td> 1.000</td>  \n",
       "</tr>\n",
       "</table>\n",
       "<table class=\"simpletable\">\n",
       "<tr>\n",
       "    <td></td>      <th>coef</th>     <th>std err</th>      <th>z</th>      <th>P>|z|</th>  <th>[0.025</th>    <th>0.975]</th>  \n",
       "</tr>\n",
       "<tr>\n",
       "  <th>Lag1</th> <td>   -0.0322</td> <td>    0.026</td> <td>   -1.235</td> <td> 0.217</td> <td>   -0.083</td> <td>    0.019</td>\n",
       "</tr>\n",
       "<tr>\n",
       "  <th>Lag2</th> <td>    0.0664</td> <td>    0.026</td> <td>    2.511</td> <td> 0.012</td> <td>    0.015</td> <td>    0.118</td>\n",
       "</tr>\n",
       "</table>"
      ],
      "text/latex": [
       "\\begin{center}\n",
       "\\begin{tabular}{lclc}\n",
       "\\toprule\n",
       "\\textbf{Dep. Variable:}   &    Direction     & \\textbf{  No. Observations:  } &     1089    \\\\\n",
       "\\textbf{Model:}           &      Logit       & \\textbf{  Df Residuals:      } &     1087    \\\\\n",
       "\\textbf{Method:}          &       MLE        & \\textbf{  Df Model:          } &        1    \\\\\n",
       "\\textbf{Date:}            & Fri, 09 Jun 2023 & \\textbf{  Pseudo R-squ.:     } & -0.003375   \\\\\n",
       "\\textbf{Time:}            &     17:59:38     & \\textbf{  Log-Likelihood:    } &   -750.63   \\\\\n",
       "\\textbf{converged:}       &       True       & \\textbf{  LL-Null:           } &   -748.10   \\\\\n",
       "\\textbf{Covariance Type:} &    nonrobust     & \\textbf{  LLR p-value:       } &    1.000    \\\\\n",
       "\\bottomrule\n",
       "\\end{tabular}\n",
       "\\begin{tabular}{lcccccc}\n",
       "              & \\textbf{coef} & \\textbf{std err} & \\textbf{z} & \\textbf{P$> |$z$|$} & \\textbf{[0.025} & \\textbf{0.975]}  \\\\\n",
       "\\midrule\n",
       "\\textbf{Lag1} &      -0.0322  &        0.026     &    -1.235  &         0.217        &       -0.083    &        0.019     \\\\\n",
       "\\textbf{Lag2} &       0.0664  &        0.026     &     2.511  &         0.012        &        0.015    &        0.118     \\\\\n",
       "\\bottomrule\n",
       "\\end{tabular}\n",
       "%\\caption{Logit Regression Results}\n",
       "\\end{center}"
      ],
      "text/plain": [
       "<class 'statsmodels.iolib.summary.Summary'>\n",
       "\"\"\"\n",
       "                           Logit Regression Results                           \n",
       "==============================================================================\n",
       "Dep. Variable:              Direction   No. Observations:                 1089\n",
       "Model:                          Logit   Df Residuals:                     1087\n",
       "Method:                           MLE   Df Model:                            1\n",
       "Date:                Fri, 09 Jun 2023   Pseudo R-squ.:               -0.003375\n",
       "Time:                        17:59:38   Log-Likelihood:                -750.63\n",
       "converged:                       True   LL-Null:                       -748.10\n",
       "Covariance Type:            nonrobust   LLR p-value:                     1.000\n",
       "==============================================================================\n",
       "                 coef    std err          z      P>|z|      [0.025      0.975]\n",
       "------------------------------------------------------------------------------\n",
       "Lag1          -0.0322      0.026     -1.235      0.217      -0.083       0.019\n",
       "Lag2           0.0664      0.026      2.511      0.012       0.015       0.118\n",
       "==============================================================================\n",
       "\"\"\""
      ]
     },
     "execution_count": 141,
     "metadata": {},
     "output_type": "execute_result"
    }
   ],
   "source": [
    "X_train = weekly_df[[\"Lag1\", \"Lag2\"]]\n",
    "y_train = weekly_df[[\"Direction\"]]\n",
    "model = sm.Logit(y_train, X_train)\n",
    "results = model.fit().summary()\n",
    "results"
   ]
  },
  {
   "cell_type": "markdown",
   "id": "3df720ed-a18e-406a-a716-e7fd782f3d0f",
   "metadata": {},
   "source": [
    "(b) Fit a logistic regression model that predicts `Direction` using `Lag1` and `Lag2` using all but the first observation"
   ]
  },
  {
   "cell_type": "code",
   "execution_count": 142,
   "id": "1abb9773-8a4b-470f-9e24-a951eb84d899",
   "metadata": {},
   "outputs": [
    {
     "name": "stdout",
     "output_type": "stream",
     "text": [
      "Optimization terminated successfully.\n",
      "         Current function value: 0.689240\n",
      "         Iterations 4\n"
     ]
    },
    {
     "data": {
      "text/html": [
       "<table class=\"simpletable\">\n",
       "<caption>Logit Regression Results</caption>\n",
       "<tr>\n",
       "  <th>Dep. Variable:</th>       <td>Direction</td>    <th>  No. Observations:  </th>  <td>  1088</td>  \n",
       "</tr>\n",
       "<tr>\n",
       "  <th>Model:</th>                 <td>Logit</td>      <th>  Df Residuals:      </th>  <td>  1086</td>  \n",
       "</tr>\n",
       "<tr>\n",
       "  <th>Method:</th>                 <td>MLE</td>       <th>  Df Model:          </th>  <td>     1</td>  \n",
       "</tr>\n",
       "<tr>\n",
       "  <th>Date:</th>            <td>Fri, 09 Jun 2023</td> <th>  Pseudo R-squ.:     </th> <td>-0.003483</td>\n",
       "</tr>\n",
       "<tr>\n",
       "  <th>Time:</th>                <td>17:59:41</td>     <th>  Log-Likelihood:    </th> <td> -749.89</td> \n",
       "</tr>\n",
       "<tr>\n",
       "  <th>converged:</th>             <td>True</td>       <th>  LL-Null:           </th> <td> -747.29</td> \n",
       "</tr>\n",
       "<tr>\n",
       "  <th>Covariance Type:</th>     <td>nonrobust</td>    <th>  LLR p-value:       </th>  <td> 1.000</td>  \n",
       "</tr>\n",
       "</table>\n",
       "<table class=\"simpletable\">\n",
       "<tr>\n",
       "    <td></td>      <th>coef</th>     <th>std err</th>      <th>z</th>      <th>P>|z|</th>  <th>[0.025</th>    <th>0.975]</th>  \n",
       "</tr>\n",
       "<tr>\n",
       "  <th>Lag1</th> <td>   -0.0318</td> <td>    0.026</td> <td>   -1.223</td> <td> 0.221</td> <td>   -0.083</td> <td>    0.019</td>\n",
       "</tr>\n",
       "<tr>\n",
       "  <th>Lag2</th> <td>    0.0670</td> <td>    0.026</td> <td>    2.531</td> <td> 0.011</td> <td>    0.015</td> <td>    0.119</td>\n",
       "</tr>\n",
       "</table>"
      ],
      "text/latex": [
       "\\begin{center}\n",
       "\\begin{tabular}{lclc}\n",
       "\\toprule\n",
       "\\textbf{Dep. Variable:}   &    Direction     & \\textbf{  No. Observations:  } &     1088    \\\\\n",
       "\\textbf{Model:}           &      Logit       & \\textbf{  Df Residuals:      } &     1086    \\\\\n",
       "\\textbf{Method:}          &       MLE        & \\textbf{  Df Model:          } &        1    \\\\\n",
       "\\textbf{Date:}            & Fri, 09 Jun 2023 & \\textbf{  Pseudo R-squ.:     } & -0.003483   \\\\\n",
       "\\textbf{Time:}            &     17:59:41     & \\textbf{  Log-Likelihood:    } &   -749.89   \\\\\n",
       "\\textbf{converged:}       &       True       & \\textbf{  LL-Null:           } &   -747.29   \\\\\n",
       "\\textbf{Covariance Type:} &    nonrobust     & \\textbf{  LLR p-value:       } &    1.000    \\\\\n",
       "\\bottomrule\n",
       "\\end{tabular}\n",
       "\\begin{tabular}{lcccccc}\n",
       "              & \\textbf{coef} & \\textbf{std err} & \\textbf{z} & \\textbf{P$> |$z$|$} & \\textbf{[0.025} & \\textbf{0.975]}  \\\\\n",
       "\\midrule\n",
       "\\textbf{Lag1} &      -0.0318  &        0.026     &    -1.223  &         0.221        &       -0.083    &        0.019     \\\\\n",
       "\\textbf{Lag2} &       0.0670  &        0.026     &     2.531  &         0.011        &        0.015    &        0.119     \\\\\n",
       "\\bottomrule\n",
       "\\end{tabular}\n",
       "%\\caption{Logit Regression Results}\n",
       "\\end{center}"
      ],
      "text/plain": [
       "<class 'statsmodels.iolib.summary.Summary'>\n",
       "\"\"\"\n",
       "                           Logit Regression Results                           \n",
       "==============================================================================\n",
       "Dep. Variable:              Direction   No. Observations:                 1088\n",
       "Model:                          Logit   Df Residuals:                     1086\n",
       "Method:                           MLE   Df Model:                            1\n",
       "Date:                Fri, 09 Jun 2023   Pseudo R-squ.:               -0.003483\n",
       "Time:                        17:59:41   Log-Likelihood:                -749.89\n",
       "converged:                       True   LL-Null:                       -747.29\n",
       "Covariance Type:            nonrobust   LLR p-value:                     1.000\n",
       "==============================================================================\n",
       "                 coef    std err          z      P>|z|      [0.025      0.975]\n",
       "------------------------------------------------------------------------------\n",
       "Lag1          -0.0318      0.026     -1.223      0.221      -0.083       0.019\n",
       "Lag2           0.0670      0.026      2.531      0.011       0.015       0.119\n",
       "==============================================================================\n",
       "\"\"\""
      ]
     },
     "execution_count": 142,
     "metadata": {},
     "output_type": "execute_result"
    }
   ],
   "source": [
    "X_train = weekly_df[[\"Lag1\", \"Lag2\"]][1:]\n",
    "y_train = weekly_df[[\"Direction\"]][1:]\n",
    "model2 = sm.Logit(y_train, X_train)\n",
    "results = model2.fit()\n",
    "results.summary()"
   ]
  },
  {
   "cell_type": "markdown",
   "id": "35b1cd8d-d150-4711-9d83-5e1aaf72ceae",
   "metadata": {},
   "source": [
    "(c) Use the model from (b) to predict the direction of the first observation. You can do this by predicting that the first observation will go up if `P(Direction=\"Up\"|Lag1, Lag2) > 0.5`. Was this observation correctly classified?\n",
    "- The observation was incorrectly classified"
   ]
  },
  {
   "cell_type": "code",
   "execution_count": 143,
   "id": "2c856fb3-9715-487e-a015-3eba9d43bc71",
   "metadata": {},
   "outputs": [
    {
     "name": "stdout",
     "output_type": "stream",
     "text": [
      "True: 0, prediction: 0.5198219840963214\n"
     ]
    }
   ],
   "source": [
    "pred = results.predict(weekly_df[[\"Lag1\", \"Lag2\"]].iloc[0])\n",
    "true = weekly_df[[\"Direction\"]].iloc[0]\n",
    "print(f\"True: {true.values[0]}, prediction: {pred.values[0]}\")"
   ]
  },
  {
   "cell_type": "markdown",
   "id": "c0461d16-666c-4573-96d0-9b3cd5aa35b4",
   "metadata": {},
   "source": [
    "(d) Write a for loop from `i = 1` to `i = n`, where n is the number of observations in the data set, that performs each of the following\n",
    "steps:\n",
    "i. Fit a logistic regression model using all but the ith observation to predict `Direction` using `Lag1` and `Lag2`.\n",
    "\n",
    "ii. Compute the posterior probability of the market moving up for the ith observation.\n",
    "\n",
    "iii. Use the posterior probability for the ith observation in order to predict whether or not the market moves up.\n",
    "\n",
    "iv. Determine whether or not an error was made in predicting the direction for the ith observation. If an error was made, then indicate this as a 1, and otherwise indicate it as a 0."
   ]
  },
  {
   "cell_type": "code",
   "execution_count": 144,
   "id": "d669ac20-7848-482a-aca3-9505ea85a0ad",
   "metadata": {},
   "outputs": [
    {
     "name": "stdout",
     "output_type": "stream",
     "text": [
      "Error rate: 0.5316804407713499\n"
     ]
    }
   ],
   "source": [
    "errors = 0\n",
    "for i in range(len(weekly_df)):\n",
    "    mask = np.array([True for _ in range(len(weekly_df))])\n",
    "    mask[i] = False\n",
    "    X_train = weekly_df[[\"Lag1\", \"Lag2\"]][mask]\n",
    "    y_train = weekly_df[[\"Direction\"]][mask]\n",
    "    model = sm.Logit(y_train, X_train)\n",
    "    results = model.fit(disp=0)\n",
    "    pred = results.predict(weekly_df[[\"Lag1\", \"Lag2\"]][~mask])\n",
    "    errors += int((pred.values[0] > 0.5) != weekly_df[[\"Direction\"]][mask].values[0])\n",
    "print(f\"Error rate: {errors/len(weekly_df)}\")"
   ]
  },
  {
   "cell_type": "markdown",
   "id": "f102a86e-057a-48c9-8baa-ba255529e1d6",
   "metadata": {},
   "source": [
    "(e) Take the average of the n numbers obtained in (d)iv in order to obtain the LOOCV estimate for the test error. Comment on the results.\n",
    "- The LOOCV error rate estimate is 53\\% "
   ]
  },
  {
   "cell_type": "markdown",
   "id": "9ab35746-b644-4554-9f8a-c14009be9d5f",
   "metadata": {},
   "source": [
    "### 8. We will now perform cross-validation on a simulated data set\n",
    "(a) Generate a simulated data set as follows:\n",
    "```\n",
    "> set .seed (1)\n",
    "> y= rnorm (100)\n",
    "> x= rnorm (100)\n",
    "> y=x -2* x^2+ rnorm (100)\n",
    "```\n",
    "In this data set, what is `n` and what is `p`? Write out the model used to generate the data in equation form.\n",
    "- $y = x-2x^2 + \\epsilon, \\epsilon \\sim N(0, 1)$. $n=100, p=2$"
   ]
  },
  {
   "cell_type": "code",
   "execution_count": 264,
   "id": "333e4c44-59f9-433c-a648-dfd15b1b7fcc",
   "metadata": {},
   "outputs": [],
   "source": [
    "np.random.seed(42)\n",
    "x = np.random.normal(size=100)\n",
    "y = -x + -2*np.square(x) + np.random.normal(size=100)\n",
    "data = pd.DataFrame({\"y\": y, \"x\": x})"
   ]
  },
  {
   "cell_type": "markdown",
   "id": "52369f45-5af2-425b-a4c4-baa6dd10cd22",
   "metadata": {},
   "source": [
    "(b) Create a scatterplot of X against Y . Comment on what you find.\n",
    "- Typical quadratic plot with noise"
   ]
  },
  {
   "cell_type": "code",
   "execution_count": 284,
   "id": "ced7b4a8-16df-4e5a-ad7c-2d0cd25b6f2c",
   "metadata": {},
   "outputs": [
    {
     "data": {
      "text/plain": [
       "<matplotlib.collections.PathCollection at 0x7fbfa15b7af0>"
      ]
     },
     "execution_count": 284,
     "metadata": {},
     "output_type": "execute_result"
    },
    {
     "data": {
      "image/png": "[encoded data removed]",
      "text/plain": [
       "<Figure size 432x288 with 1 Axes>"
      ]
     },
     "metadata": {
      "needs_background": "light"
     },
     "output_type": "display_data"
    }
   ],
   "source": [
    "plt.scatter(x, y)"
   ]
  },
  {
   "cell_type": "markdown",
   "id": "550f8ff2-5d5b-4ebb-abcf-f85c112d7702",
   "metadata": {},
   "source": [
    "(c) Set a random seed, and then compute the LOOCV errors that result from fitting the following four models using least squares:\n",
    "- $Y = \\beta_0 + \\beta_1X + \\epsilon$\n",
    "- $Y = \\beta_0 + \\beta_1X + \\beta_2 X^2 + \\epsilon$\n",
    "- $Y = \\beta_0 + \\beta_1X + \\beta_2 X^2 + \\beta_3 X^3 + \\epsilon$\n",
    "- $Y = \\beta_0 + \\beta_1X + \\beta_2 X^2 + \\beta_3 X^3 + + \\beta_4 X^4 + \\epsilon$"
   ]
  },
  {
   "cell_type": "code",
   "execution_count": 273,
   "id": "25aedd41-8e4f-46f8-9eba-8b1b48d05fe4",
   "metadata": {},
   "outputs": [],
   "source": [
    "def loocv(data: pd.DataFrame, formula: str):\n",
    "    \"\"\"Compute LOOCV Error rate\"\"\"\n",
    "    np.random.seed(42)\n",
    "    error = 0\n",
    "    for i in range(len(data)):\n",
    "        mask = np.array([True for _ in range(len(data))])\n",
    "        mask[i] = False\n",
    "        y, x = data[mask][\"y\"], data[mask][\"x\"]\n",
    "        model = smf.ols(formula=formula, data=data[mask]).fit()\n",
    "        pred = model.predict(data[~mask])\n",
    "        error += abs(pred.values - data[~mask][\"y\"].values)\n",
    "    return model, error"
   ]
  },
  {
   "cell_type": "code",
   "execution_count": 275,
   "id": "eaabc12e-0f15-4b1b-870a-c40a0595469c",
   "metadata": {},
   "outputs": [
    {
     "name": "stdout",
     "output_type": "stream",
     "text": [
      "Error for y ~ x: [200.68630758]\n",
      "Error for y ~ x + np.power(x, 2): [74.55874723]\n",
      "Error for y ~ x + np.power(x, 2) + np.power(x, 3): [76.33081635]\n",
      "Error for y ~ x + np.power(x, 2) + np.power(x, 3) + np.power(x, 4): [79.40971083]\n"
     ]
    }
   ],
   "source": [
    "formulas = [\n",
    "    \"y ~ x\", \"y ~ x + np.power(x, 2)\", \"y ~ x + np.power(x, 2) + np.power(x, 3)\", \"y ~ x + np.power(x, 2) + np.power(x, 3) + np.power(x, 4)\"\n",
    "]\n",
    "for f in formulas:\n",
    "    model, error = loocv(data, f)\n",
    "    models.append(model)\n",
    "    print(f\"Error for {f}: {error}\")"
   ]
  },
  {
   "cell_type": "markdown",
   "id": "51051c1a-4f90-45b3-8713-872131f18929",
   "metadata": {},
   "source": [
    "(d) Repeat (c) using another random seed, and report your results. Are your results the same as what you got in (c)? Why?\n",
    "- Different results although still the minimum error is for a quadratic curve without higher order terms"
   ]
  },
  {
   "cell_type": "code",
   "execution_count": 276,
   "id": "ab1e82bb-817a-4e31-b12c-447e0c9224d0",
   "metadata": {},
   "outputs": [],
   "source": [
    "np.random.seed(41)\n",
    "x = np.random.normal(size=100)\n",
    "y = -x + -2*np.square(x) + np.random.normal(size=100)\n",
    "data = pd.DataFrame({\"y\": y, \"x\": x})"
   ]
  },
  {
   "cell_type": "code",
   "execution_count": 277,
   "id": "3748226b-dba1-4463-a619-456f8fc3edee",
   "metadata": {},
   "outputs": [
    {
     "name": "stdout",
     "output_type": "stream",
     "text": [
      "Error for y ~ x: [200.68630758]\n",
      "Error for y ~ x + np.power(x, 2): [74.55874723]\n",
      "Error for y ~ x + np.power(x, 2) + np.power(x, 3): [76.33081635]\n",
      "Error for y ~ x + np.power(x, 2) + np.power(x, 3) + np.power(x, 4): [79.40971083]\n"
     ]
    }
   ],
   "source": [
    "formulas = [\n",
    "    \"y ~ x\", \"y ~ x + np.power(x, 2)\", \"y ~ x + np.power(x, 2) + np.power(x, 3)\", \"y ~ x + np.power(x, 2) + np.power(x, 3) + np.power(x, 4)\"\n",
    "]\n",
    "models = []\n",
    "for f in formulas:\n",
    "    model, error = loocv(data, f)\n",
    "    models.append(model)\n",
    "    print(f\"Error for {f}: {error}\")"
   ]
  },
  {
   "cell_type": "markdown",
   "id": "65d77f9f-d1bd-4b11-966e-16fbbf3c0e9d",
   "metadata": {},
   "source": [
    "(e) Which of the models in (c) had the smallest LOOCV error? Is this what you expected? Explain your answer.\n",
    "- The second one (quadratic term). This is expected as the higher order polynomials overfit to the data and fit to noise\n",
    "\n",
    "(f) Comment on the statistical significance of the coefficient estimates that results from fitting each of the models in (c) using least squares. Do these results agree with the conclusions drawn based on the cross-validation results?\n",
    "- The only statistically significant coefficinets are the $\\beta_1$ and $\\beta_2$, as expected (because they represent the true data generation equation)"
   ]
  },
  {
   "cell_type": "code",
   "execution_count": 279,
   "id": "cc925f79-1e34-4b22-8ee2-1162c3c6941e",
   "metadata": {},
   "outputs": [
    {
     "data": {
      "text/html": [
       "<table class=\"simpletable\">\n",
       "<caption>OLS Regression Results</caption>\n",
       "<tr>\n",
       "  <th>Dep. Variable:</th>            <td>y</td>        <th>  R-squared:         </th> <td>   0.892</td>\n",
       "</tr>\n",
       "<tr>\n",
       "  <th>Model:</th>                   <td>OLS</td>       <th>  Adj. R-squared:    </th> <td>   0.888</td>\n",
       "</tr>\n",
       "<tr>\n",
       "  <th>Method:</th>             <td>Least Squares</td>  <th>  F-statistic:       </th> <td>   194.4</td>\n",
       "</tr>\n",
       "<tr>\n",
       "  <th>Date:</th>             <td>Sat, 10 Jun 2023</td> <th>  Prob (F-statistic):</th> <td>1.50e-44</td>\n",
       "</tr>\n",
       "<tr>\n",
       "  <th>Time:</th>                 <td>15:58:07</td>     <th>  Log-Likelihood:    </th> <td> -131.96</td>\n",
       "</tr>\n",
       "<tr>\n",
       "  <th>No. Observations:</th>      <td>    99</td>      <th>  AIC:               </th> <td>   273.9</td>\n",
       "</tr>\n",
       "<tr>\n",
       "  <th>Df Residuals:</th>          <td>    94</td>      <th>  BIC:               </th> <td>   286.9</td>\n",
       "</tr>\n",
       "<tr>\n",
       "  <th>Df Model:</th>              <td>     4</td>      <th>                     </th>     <td> </td>   \n",
       "</tr>\n",
       "<tr>\n",
       "  <th>Covariance Type:</th>      <td>nonrobust</td>    <th>                     </th>     <td> </td>   \n",
       "</tr>\n",
       "</table>\n",
       "<table class=\"simpletable\">\n",
       "<tr>\n",
       "         <td></td>           <th>coef</th>     <th>std err</th>      <th>t</th>      <th>P>|t|</th>  <th>[0.025</th>    <th>0.975]</th>  \n",
       "</tr>\n",
       "<tr>\n",
       "  <th>Intercept</th>      <td>    0.0474</td> <td>    0.152</td> <td>    0.312</td> <td> 0.756</td> <td>   -0.255</td> <td>    0.349</td>\n",
       "</tr>\n",
       "<tr>\n",
       "  <th>x</th>              <td>   -1.0232</td> <td>    0.151</td> <td>   -6.786</td> <td> 0.000</td> <td>   -1.323</td> <td>   -0.724</td>\n",
       "</tr>\n",
       "<tr>\n",
       "  <th>np.power(x, 2)</th> <td>   -1.9881</td> <td>    0.166</td> <td>  -11.954</td> <td> 0.000</td> <td>   -2.318</td> <td>   -1.658</td>\n",
       "</tr>\n",
       "<tr>\n",
       "  <th>np.power(x, 3)</th> <td>    0.0306</td> <td>    0.048</td> <td>    0.638</td> <td> 0.525</td> <td>   -0.065</td> <td>    0.126</td>\n",
       "</tr>\n",
       "<tr>\n",
       "  <th>np.power(x, 4)</th> <td>    0.0071</td> <td>    0.029</td> <td>    0.248</td> <td> 0.805</td> <td>   -0.050</td> <td>    0.064</td>\n",
       "</tr>\n",
       "</table>\n",
       "<table class=\"simpletable\">\n",
       "<tr>\n",
       "  <th>Omnibus:</th>       <td> 1.776</td> <th>  Durbin-Watson:     </th> <td>   1.993</td>\n",
       "</tr>\n",
       "<tr>\n",
       "  <th>Prob(Omnibus):</th> <td> 0.412</td> <th>  Jarque-Bera (JB):  </th> <td>   1.205</td>\n",
       "</tr>\n",
       "<tr>\n",
       "  <th>Skew:</th>          <td> 0.198</td> <th>  Prob(JB):          </th> <td>   0.548</td>\n",
       "</tr>\n",
       "<tr>\n",
       "  <th>Kurtosis:</th>      <td> 3.367</td> <th>  Cond. No.          </th> <td>    20.2</td>\n",
       "</tr>\n",
       "</table><br/><br/>Notes:<br/>[1] Standard Errors assume that the covariance matrix of the errors is correctly specified."
      ],
      "text/latex": [
       "\\begin{center}\n",
       "\\begin{tabular}{lclc}\n",
       "\\toprule\n",
       "\\textbf{Dep. Variable:}    &        y         & \\textbf{  R-squared:         } &     0.892   \\\\\n",
       "\\textbf{Model:}            &       OLS        & \\textbf{  Adj. R-squared:    } &     0.888   \\\\\n",
       "\\textbf{Method:}           &  Least Squares   & \\textbf{  F-statistic:       } &     194.4   \\\\\n",
       "\\textbf{Date:}             & Sat, 10 Jun 2023 & \\textbf{  Prob (F-statistic):} &  1.50e-44   \\\\\n",
       "\\textbf{Time:}             &     15:58:07     & \\textbf{  Log-Likelihood:    } &   -131.96   \\\\\n",
       "\\textbf{No. Observations:} &          99      & \\textbf{  AIC:               } &     273.9   \\\\\n",
       "\\textbf{Df Residuals:}     &          94      & \\textbf{  BIC:               } &     286.9   \\\\\n",
       "\\textbf{Df Model:}         &           4      & \\textbf{                     } &             \\\\\n",
       "\\textbf{Covariance Type:}  &    nonrobust     & \\textbf{                     } &             \\\\\n",
       "\\bottomrule\n",
       "\\end{tabular}\n",
       "\\begin{tabular}{lcccccc}\n",
       "                        & \\textbf{coef} & \\textbf{std err} & \\textbf{t} & \\textbf{P$> |$t$|$} & \\textbf{[0.025} & \\textbf{0.975]}  \\\\\n",
       "\\midrule\n",
       "\\textbf{Intercept}      &       0.0474  &        0.152     &     0.312  &         0.756        &       -0.255    &        0.349     \\\\\n",
       "\\textbf{x}              &      -1.0232  &        0.151     &    -6.786  &         0.000        &       -1.323    &       -0.724     \\\\\n",
       "\\textbf{np.power(x, 2)} &      -1.9881  &        0.166     &   -11.954  &         0.000        &       -2.318    &       -1.658     \\\\\n",
       "\\textbf{np.power(x, 3)} &       0.0306  &        0.048     &     0.638  &         0.525        &       -0.065    &        0.126     \\\\\n",
       "\\textbf{np.power(x, 4)} &       0.0071  &        0.029     &     0.248  &         0.805        &       -0.050    &        0.064     \\\\\n",
       "\\bottomrule\n",
       "\\end{tabular}\n",
       "\\begin{tabular}{lclc}\n",
       "\\textbf{Omnibus:}       &  1.776 & \\textbf{  Durbin-Watson:     } &    1.993  \\\\\n",
       "\\textbf{Prob(Omnibus):} &  0.412 & \\textbf{  Jarque-Bera (JB):  } &    1.205  \\\\\n",
       "\\textbf{Skew:}          &  0.198 & \\textbf{  Prob(JB):          } &    0.548  \\\\\n",
       "\\textbf{Kurtosis:}      &  3.367 & \\textbf{  Cond. No.          } &     20.2  \\\\\n",
       "\\bottomrule\n",
       "\\end{tabular}\n",
       "%\\caption{OLS Regression Results}\n",
       "\\end{center}\n",
       "\n",
       "Notes: \\newline\n",
       " [1] Standard Errors assume that the covariance matrix of the errors is correctly specified."
      ],
      "text/plain": [
       "<class 'statsmodels.iolib.summary.Summary'>\n",
       "\"\"\"\n",
       "                            OLS Regression Results                            \n",
       "==============================================================================\n",
       "Dep. Variable:                      y   R-squared:                       0.892\n",
       "Model:                            OLS   Adj. R-squared:                  0.888\n",
       "Method:                 Least Squares   F-statistic:                     194.4\n",
       "Date:                Sat, 10 Jun 2023   Prob (F-statistic):           1.50e-44\n",
       "Time:                        15:58:07   Log-Likelihood:                -131.96\n",
       "No. Observations:                  99   AIC:                             273.9\n",
       "Df Residuals:                      94   BIC:                             286.9\n",
       "Df Model:                           4                                         \n",
       "Covariance Type:            nonrobust                                         \n",
       "==================================================================================\n",
       "                     coef    std err          t      P>|t|      [0.025      0.975]\n",
       "----------------------------------------------------------------------------------\n",
       "Intercept          0.0474      0.152      0.312      0.756      -0.255       0.349\n",
       "x                 -1.0232      0.151     -6.786      0.000      -1.323      -0.724\n",
       "np.power(x, 2)    -1.9881      0.166    -11.954      0.000      -2.318      -1.658\n",
       "np.power(x, 3)     0.0306      0.048      0.638      0.525      -0.065       0.126\n",
       "np.power(x, 4)     0.0071      0.029      0.248      0.805      -0.050       0.064\n",
       "==============================================================================\n",
       "Omnibus:                        1.776   Durbin-Watson:                   1.993\n",
       "Prob(Omnibus):                  0.412   Jarque-Bera (JB):                1.205\n",
       "Skew:                           0.198   Prob(JB):                        0.548\n",
       "Kurtosis:                       3.367   Cond. No.                         20.2\n",
       "==============================================================================\n",
       "\n",
       "Notes:\n",
       "[1] Standard Errors assume that the covariance matrix of the errors is correctly specified.\n",
       "\"\"\""
      ]
     },
     "execution_count": 279,
     "metadata": {},
     "output_type": "execute_result"
    }
   ],
   "source": [
    "models[-1].summary()"
   ]
  },
  {
   "cell_type": "markdown",
   "id": "2c063902-4ca5-40a1-9449-8de70e96bd7c",
   "metadata": {},
   "source": [
    "### 9. We will now consider the Boston housing data set, from the MASS library.\n",
    "(a) Based on this data set, provide an estimate for the population mean of `medv`. Call this estimate $\\hat{\\mu}$\n",
    "- $\\hat{\\mu} = 22.53$"
   ]
  },
  {
   "cell_type": "code",
   "execution_count": 285,
   "id": "5164bf86-d6cf-4760-a30e-0740e98609ed",
   "metadata": {},
   "outputs": [],
   "source": [
    "boston_df = pd.read_csv(\"../data/Boston.csv\", index_col=0)"
   ]
  },
  {
   "cell_type": "code",
   "execution_count": 288,
   "id": "9e477fc2-19ab-465b-9c91-ddc54d47de70",
   "metadata": {},
   "outputs": [
    {
     "data": {
      "text/plain": [
       "22.532806324110698"
      ]
     },
     "execution_count": 288,
     "metadata": {},
     "output_type": "execute_result"
    }
   ],
   "source": [
    "boston_df.medv.mean()"
   ]
  },
  {
   "cell_type": "markdown",
   "id": "8db49808-e1bc-45ee-8d3a-b59553705be1",
   "metadata": {},
   "source": [
    "(b) Provide an estimate of the standard error of $\\hat{\\mu}$. Interpret this result.\n",
    "Hint: We can compute the standard error of the sample mean by dividing the sample standard deviation by the square root of the number of observations.\n",
    "- 0.40886 (using scipy.stats.sem as well as manually computing using the hint provided)"
   ]
  },
  {
   "cell_type": "code",
   "execution_count": 296,
   "id": "54918127-c585-4aff-be1f-cb7685a6c60e",
   "metadata": {},
   "outputs": [
    {
     "data": {
      "text/plain": [
       "(0.40886114749753505, 0.4088611474975351)"
      ]
     },
     "execution_count": 296,
     "metadata": {},
     "output_type": "execute_result"
    }
   ],
   "source": [
    "scipy.stats.sem(boston_df.medv), np.std(boston_df.medv, ddof=1) / np.sqrt(len(boston_df))"
   ]
  },
  {
   "cell_type": "markdown",
   "id": "c4223d6c-5ef4-4d75-8242-9e900f725b69",
   "metadata": {},
   "source": [
    "(c) Now estimate the standard error of $\\hat{\\mu}$ using the bootstrap. How does this compare to your answer from (b)?\n",
    "- 0.42. Very close"
   ]
  },
  {
   "cell_type": "code",
   "execution_count": 304,
   "id": "b7172831-5f1d-4cf6-93a3-57b1fb057caf",
   "metadata": {},
   "outputs": [
    {
     "data": {
      "text/plain": [
       "0.4194536148956185"
      ]
     },
     "execution_count": 304,
     "metadata": {},
     "output_type": "execute_result"
    }
   ],
   "source": [
    "np.std([boston_df.medv.sample(n=len(boston_df), replace=True).mean() for _ in range(100)], ddof=1)"
   ]
  },
  {
   "cell_type": "markdown",
   "id": "b4038a4c-b88f-4647-9547-524685e0c1de",
   "metadata": {},
   "source": [
    "(d) Based on your bootstrap estimate from (c), provide a 95 % confidence interval for the mean of `medv`. Hint: You can approximate a 95% confidence interval using the formula\n",
    "$$\n",
    "[\\hat{\\mu} - 2SE(\\hat{\\mu}), \\hat{\\mu} + 2SE(\\hat{\\mu})]\n",
    "$$\n",
    "- 95% confidence interval is: [21.69, 23.37]"
   ]
  },
  {
   "cell_type": "markdown",
   "id": "a7e43994-8ede-41c1-96e5-4613e19ea2fa",
   "metadata": {},
   "source": [
    "(e) Based on this data set, provide an estimate, $\\hat{\\mu}_{med}$, for the median value of `medv` in the population."
   ]
  },
  {
   "cell_type": "code",
   "execution_count": 308,
   "id": "be26f5a2-80e6-43d6-ade4-4a6c602d440e",
   "metadata": {},
   "outputs": [
    {
     "data": {
      "text/plain": [
       "21.2"
      ]
     },
     "execution_count": 308,
     "metadata": {},
     "output_type": "execute_result"
    }
   ],
   "source": [
    "boston_df.medv.median()"
   ]
  },
  {
   "cell_type": "markdown",
   "id": "c558ac37-9e01-4688-a315-990793e49eda",
   "metadata": {},
   "source": [
    "(f) We now would like to estimate the standard error of $\\hat{\\mu}_{med}$. Unfortunately, there is no simple formula for computing the standard error of the median. Instead, estimate the standard error of the median using the bootstrap. Comment on your findings.\n",
    "- Std error for the median is 0.36 which is a bit smaller than the std error for the mean"
   ]
  },
  {
   "cell_type": "code",
   "execution_count": 311,
   "id": "58f8bd67-54dc-4b25-b161-21f95984525c",
   "metadata": {},
   "outputs": [
    {
     "data": {
      "text/plain": [
       "0.3649007060181236"
      ]
     },
     "execution_count": 311,
     "metadata": {},
     "output_type": "execute_result"
    }
   ],
   "source": [
    "np.std([boston_df.medv.sample(n=len(boston_df), replace=True).median() for _ in range(100)], ddof=1)"
   ]
  },
  {
   "cell_type": "markdown",
   "id": "fa083758-2ff9-4713-9dcb-0ce774856ffb",
   "metadata": {},
   "source": [
    "(g) Based on this data set, provide an estimate for the tenth percentile of `medv` in Boston suburbs. Call this quantity $\\hat{\\mu}_{0.1}$"
   ]
  },
  {
   "cell_type": "code",
   "execution_count": 312,
   "id": "a6788108-91ce-4804-9bad-0bd4379139fc",
   "metadata": {},
   "outputs": [
    {
     "data": {
      "text/plain": [
       "12.75"
      ]
     },
     "execution_count": 312,
     "metadata": {},
     "output_type": "execute_result"
    }
   ],
   "source": [
    "boston_df.medv.quantile(0.1)"
   ]
  },
  {
   "cell_type": "markdown",
   "id": "e8d293b4-2ceb-4545-a941-460d35267638",
   "metadata": {},
   "source": [
    "(h) Use the bootstrap to estimate the standard error of $\\hat{\\mu}_{0.1}$ Comment on your findings.\n",
    "- Standard error for the tenth percentile is ~0.5 "
   ]
  },
  {
   "cell_type": "code",
   "execution_count": 314,
   "id": "4182b874-67cd-4c35-8575-e93ef72c2b8e",
   "metadata": {},
   "outputs": [
    {
     "data": {
      "text/plain": [
       "0.5180957752416364"
      ]
     },
     "execution_count": 314,
     "metadata": {},
     "output_type": "execute_result"
    }
   ],
   "source": [
    "np.std([boston_df.medv.sample(n=len(boston_df), replace=True).quantile(0.1) for _ in range(100)], ddof=1)"
   ]
  }
 ],
 "metadata": {
  "kernelspec": {
   "display_name": "data-science",
   "language": "python",
   "name": "data-science"
  },
  "language_info": {
   "codemirror_mode": {
    "name": "ipython",
    "version": 3
   },
   "file_extension": ".py",
   "mimetype": "text/x-python",
   "name": "python",
   "nbconvert_exporter": "python",
   "pygments_lexer": "ipython3",
   "version": "3.9.7"
  }
 },
 "nbformat": 4,
 "nbformat_minor": 5
}
